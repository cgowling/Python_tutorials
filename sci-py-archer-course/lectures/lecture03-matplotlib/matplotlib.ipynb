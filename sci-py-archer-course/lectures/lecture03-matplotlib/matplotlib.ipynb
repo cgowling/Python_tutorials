{
 "cells": [
  {
   "cell_type": "markdown",
   "metadata": {
    "slideshow": {
     "slide_type": "slide"
    }
   },
   "source": [
    "\n",
    "<br>\n",
    "<hr style=\"border: solid 1px red; margin-bottom: 2% \">\n",
    "\n",
    "## ARCHER COURSE\n",
    "# SCIENTIFIC PYTHON : MATPLOTLIB\n",
    "<hr style=\"border: solid 1px red; margin-bottom: -1%; \">\n",
    "<br>\n",
    "## Website:  http://www.archer.ac.uk \n",
    "\n",
    "## Helpdesk: support@archer.ac.uk\n",
    "\n",
    "<br>\n",
    "\n",
    "<img src=\"images/epsrclogo.png\" style=\"float: center; width: 40%\">\n",
    "\n",
    "<br>\n",
    "\n",
    "<img src=\"images/nerclogo.png\" style=\"float: center; width: 40%\">\n",
    "\n",
    "\n",
    "<br>\n",
    "\n",
    "<img src=\"images/craylogo.png\" style=\"float: center; width: 40%\">\n",
    "\n",
    "<br>\n",
    "\n",
    "<img src=\"images/epcclogo.png\" style=\"float: center; width: 40%\">\n",
    "\n",
    "<br>\n",
    "\n",
    "<img src=\"images/ediunilogo.png\" style=\"float: center; width: 40%\">\n",
    "\n",
    "<br>\n",
    "<br>"
   ]
  },
  {
   "cell_type": "markdown",
   "metadata": {
    "slideshow": {
     "slide_type": "slide"
    }
   },
   "source": [
    "\n",
    "\n",
    "\n",
    "<img src=\"images/reusematerial.png\" style=\"float: center; width: 95\" >"
   ]
  },
  {
   "cell_type": "markdown",
   "metadata": {
    "slideshow": {
     "slide_type": "slide"
    }
   },
   "source": [
    "\n",
    "<hr class=\"top\">\n",
    "# Matplotlib\n",
    "<hr class=\"bot\">\n",
    "<br>\n",
    "\n",
    "## Presenter: Neelofer Banglawala\n",
    "\n",
    "#### Contributing authors:\n",
    "#### Neelofer Bangawala, Arno Proeme, Kevin Stratford, Andy Turner\n",
    "\n",
    "\n",
    "<br>\n",
    "<br>"
   ]
  },
  {
   "cell_type": "markdown",
   "metadata": {
    "slideshow": {
     "slide_type": "slide"
    }
   },
   "source": [
    "<br>\n",
    "<hr class=\"top\">\n",
    "## What is matplotlib?\n",
    "<hr class=\"bot\">\n",
    "<br>\n",
    "\n",
    "* Matplotlib is a plotting library for Python\n",
    "\n",
    "  * Claim: “make the easy things easy and the hard things possible”.\n",
    "\n",
    "\n",
    "* Capable of:\n",
    "\n",
    "  * Interactive and non-interactive plotting\n",
    "  * Producing publication-quality figures\n",
    "  * Can be used for schematic diagrams  \n",
    "\n",
    "\n",
    "*  Closely integrated with numpy\n",
    "\n",
    "  * Use `numpy` functions for reading data\n",
    "  * `matplotlib` can plot numpy arrays easily\n",
    "\n",
    "\n",
    "* See\n",
    "\n",
    "  * http://matplotlib.org/"
   ]
  },
  {
   "cell_type": "markdown",
   "metadata": {
    "slideshow": {
     "slide_type": "slide"
    }
   },
   "source": [
    "<br>\n",
    "<hr class=\"top\">\n",
    "## What does it do?\n",
    "<hr class=\"bot\">\n",
    "<br>\n",
    "\n",
    "* People often want to have a quick look at data\n",
    "    * And perhaps manipulate it\n",
    "\n",
    "\n",
    "* Large amount of functionality:\n",
    "\n",
    "  * Line charts, bar charts, scatter plots, error bars, etc..\n",
    "  * Heatmaps, contours, surfaces\n",
    "  * Geographical and map-based plotting\n",
    "  \n",
    "\n",
    "* Can be used\n",
    "  * Via a standalone script (automation of plotting tasks)\n",
    "  * Via iPython shell\n",
    "  * Within a notebook\n",
    "\n",
    "\n",
    "* All methods allow you to save your work\n"
   ]
  },
  {
   "cell_type": "markdown",
   "metadata": {
    "slideshow": {
     "slide_type": "slide"
    }
   },
   "source": [
    "<br>\n",
    "<hr class=\"top\">\n",
    "## Basic concepts\n",
    "<hr class=\"bot\">\n",
    "<br>\n",
    "\n",
    "<img src=\"figuremap.png\" style=\"float: right; width: 45%; margin-right: 2%; margin-top: 0%; margin-bottom: 1%\">\n",
    "\n",
    "* Everything is assembled by Python commands\n",
    "\n",
    "\n",
    "* Create a figure with an axes area (this is the plotting area)\n",
    "\n",
    "\n",
    "* Can create one or more plots in a figure\n",
    "\n",
    "\n",
    "* Only one plot (or axes) is active at a given time\n",
    "\n",
    "\n",
    "* Use `show()` to display the plot (if in non-interactive mode - see later)\n",
    "\n",
    "`matplotlib.pyplot` contains the high-level functions we need to do all the above and more"
   ]
  },
  {
   "cell_type": "markdown",
   "metadata": {
    "slideshow": {
     "slide_type": "slide"
    }
   },
   "source": [
    "<br>\n",
    "<hr class=\"top\">\n",
    "## Note\n",
    "<hr class=\"bot\">\n",
    "<br>\n",
    "\n",
    "`matplotlib` is a very large package, and has a great many objects and methods (functions). This can be confusing.\n",
    "\n",
    "Make sure you are looking at documentation for `matplotlib.pyplot`\n",
    "\n",
    "http://matplotlib.org/api/pyplot_summary.html\n",
    "\n",
    "Can help to use fully qualified names:\n",
    "```python\n",
    "import matplotlib\n",
    "import matplotlib.pyplot\n",
    "\n",
    "...\n",
    "matplotlib.pyplot.plot(x, y, 'rv')\n",
    "```\n",
    "to make sure you are getting the right methods."
   ]
  },
  {
   "cell_type": "markdown",
   "metadata": {
    "slideshow": {
     "slide_type": "slide"
    }
   },
   "source": [
    "<br>\n",
    "<hr class=\"top\">\n",
    "## Basic plotting\n",
    "<hr class=\"bot\">\n",
    "<br>\n",
    "\n",
    "Import `numpy` (alias np) and matplotlib's plotting functionality via the pyplot interface (alias plt)"
   ]
  },
  {
   "cell_type": "code",
   "execution_count": 4,
   "metadata": {
    "slideshow": {
     "slide_type": "-"
    }
   },
   "outputs": [],
   "source": [
    "# If using a notebook, plots can be forced to appear in\n",
    "# the browser by adding the \"inline\" option\n",
    "\n",
    "%matplotlib inline\n",
    "import numpy as np\n",
    "\n",
    "import matplotlib\n",
    "import matplotlib.pyplot as plt"
   ]
  },
  {
   "cell_type": "code",
   "execution_count": 5,
   "metadata": {
    "slideshow": {
     "slide_type": "-"
    }
   },
   "outputs": [],
   "source": [
    "# Create some data points for y = cos(x) using numpy\n",
    "xmin = 0\n",
    "xmax = 10\n",
    "npts = 50\n",
    "x = np.linspace(xmin, xmax, npts) \n",
    "y = np.cos(x)"
   ]
  },
  {
   "cell_type": "code",
   "execution_count": 6,
   "metadata": {
    "slideshow": {
     "slide_type": "-"
    }
   },
   "outputs": [
    {
     "data": {
      "image/png": "[encoded data removed]",
      "text/plain": [
       "<Figure size 432x288 with 1 Axes>"
      ]
     },
     "metadata": {
      "needs_background": "light"
     },
     "output_type": "display_data"
    }
   ],
   "source": [
    "plt.plot(x, y, 'gx')\n",
    "plt.show()"
   ]
  },
  {
   "cell_type": "markdown",
   "metadata": {
    "slideshow": {
     "slide_type": "slide"
    }
   },
   "source": [
    "<br>\n",
    "<hr class=\"top\">\n",
    "## Saving images to file\n",
    "<hr class=\"bot\">\n",
    "<br>\n",
    "\n",
    "*  Use, e.g., `pyplot.savefig()`\n",
    "\n",
    "*  File format is determined from the filename extension you supply\n",
    "\n",
    "*  Commonly supports: `.png`, `.jpg`, `.pdf`, `.ps`\n",
    "\n",
    "* Other options to control, e.g., resolution\n"
   ]
  },
  {
   "cell_type": "code",
   "execution_count": 7,
   "metadata": {
    "scrolled": true,
    "slideshow": {
     "slide_type": "-"
    }
   },
   "outputs": [
    {
     "data": {
      "image/png": "[encoded data removed]",
      "text/plain": [
       "<Figure size 432x288 with 1 Axes>"
      ]
     },
     "metadata": {
      "needs_background": "light"
     },
     "output_type": "display_data"
    }
   ],
   "source": [
    "# Save image to file in different formats\n",
    "\n",
    "plt.plot(x, y, 'bs')\n",
    "plt.savefig(\"cos_plot.pdf\")\n",
    "plt.savefig(\"cos_plot.png\", dpi=300)\n",
    "plt.show()"
   ]
  },
  {
   "cell_type": "code",
   "execution_count": 8,
   "metadata": {},
   "outputs": [
    {
     "name": "stdout",
     "output_type": "stream",
     "text": [
      "cos_plot.pdf      exercise2.py      matplotlibrc.test subplot2grid.png\r\n",
      "cos_plot.png      figuremap.png     normal.dat        subplotgrid.png\r\n",
      "exercise1.py      \u001b[34mimages\u001b[m\u001b[m            random1.dat       uniform.dat\r\n",
      "exercise2.png     matplotlib.ipynb  random2.dat\r\n"
     ]
    }
   ],
   "source": [
    "# Check image has been saved\n",
    "! ls"
   ]
  },
  {
   "cell_type": "markdown",
   "metadata": {
    "slideshow": {
     "slide_type": "slide"
    }
   },
   "source": [
    "<br>\n",
    "<hr class=\"top\">\n",
    "## Exercise : Plot data from a file\n",
    "<hr class=\"bot\">\n",
    "<br>\n",
    "\n",
    "Again, this exercise can be done within the notebook, or in an iPython shell, or by writing a script. Note that the interaction is slightly different in each case.\n",
    "\n",
    "### Files\n",
    "\n",
    "Check that two associated data files `random1.dat` and `random2.dat` are available."
   ]
  },
  {
   "cell_type": "code",
   "execution_count": null,
   "metadata": {
    "slideshow": {
     "slide_type": "-"
    }
   },
   "outputs": [],
   "source": [
    "! ls"
   ]
  },
  {
   "cell_type": "markdown",
   "metadata": {},
   "source": [
    "#### Step 1\n",
    "\n",
    "Read in the data from the files using `numpy.genfromtxt()`. You should have two arrays, e.g., `data1` and `data2`. The files contain pairs of values which we will interpret as x and y coordinates. Check what these data look like (that is, check the attributes of the resulting `numpy` arrays)."
   ]
  },
  {
   "cell_type": "code",
   "execution_count": 9,
   "metadata": {},
   "outputs": [],
   "source": [
    "data1 = np.genfromtxt(\"random1.dat\")\n",
    "data2 = np.genfromtxt(\"random2.dat\")"
   ]
  },
  {
   "cell_type": "markdown",
   "metadata": {},
   "source": [
    "#### Step 2\n",
    "\n",
    "Plot `data1` using matplotlib to appear as red crosses (check the online documentation for `pyplot.plot`). You will need x-coordinates `data1[:,0]` and the corresponding y-coordinates"
   ]
  },
  {
   "cell_type": "code",
   "execution_count": null,
   "metadata": {},
   "outputs": [],
   "source": [
    "..."
   ]
  },
  {
   "cell_type": "markdown",
   "metadata": {},
   "source": [
    "#### Step 3\n",
    "\n",
    "Now plot `data2` to appear a green circles connected by a line."
   ]
  },
  {
   "cell_type": "code",
   "execution_count": null,
   "metadata": {},
   "outputs": [],
   "source": [
    "..."
   ]
  },
  {
   "cell_type": "markdown",
   "metadata": {},
   "source": [
    "#### Step 4\n",
    "1. How do we show `data1` and `data2` on the same plot?\n",
    "2. Can you find out how to add labels to the axes?\n",
    "3. Can you add a legend?\n",
    "\n",
    "Hint: you need something like\n",
    "```python\n",
    "plot(x, y, '+', label = \"text\")\n",
    "```\n",
    "for the legend"
   ]
  },
  {
   "cell_type": "code",
   "execution_count": null,
   "metadata": {},
   "outputs": [],
   "source": [
    "..."
   ]
  },
  {
   "cell_type": "markdown",
   "metadata": {
    "slideshow": {
     "slide_type": "slide"
    }
   },
   "source": [
    "<br>\n",
    "<hr class=\"top\">\n",
    "## Solution : Plot data from a file\n",
    "<hr class=\"bot\">\n",
    "<br>\n"
   ]
  },
  {
   "cell_type": "code",
   "execution_count": null,
   "metadata": {},
   "outputs": [],
   "source": [
    "# Execute this cell to see a solution\n",
    "%load exercise1.py\n"
   ]
  },
  {
   "cell_type": "markdown",
   "metadata": {},
   "source": [
    " "
   ]
  },
  {
   "cell_type": "markdown",
   "metadata": {
    "slideshow": {
     "slide_type": "slide"
    }
   },
   "source": [
    "<br>\n",
    "<hr class=\"top\">\n",
    "## Line and marker styles\n",
    "<hr class=\"bot\">\n",
    "<br>\n",
    "\n",
    "There are many ways to customise a plot. These may involve interaction with other `matplotlib` objects, e.g."
   ]
  },
  {
   "cell_type": "code",
   "execution_count": 10,
   "metadata": {
    "slideshow": {
     "slide_type": "-"
    }
   },
   "outputs": [
    {
     "data": {
      "image/png": "[encoded data removed]",
      "text/plain": [
       "<Figure size 216x216 with 1 Axes>"
      ]
     },
     "metadata": {
      "needs_background": "light"
     },
     "output_type": "display_data"
    }
   ],
   "source": [
    "# Set the figure size and add a plot\n",
    "# (uses x and y from one of the above cells).\n",
    "# The figure size (in inches) can be specified\n",
    "fig = plt.figure(figsize=(3,3)) \n",
    "plt.plot(x, y, 'c-')\n",
    "plt.show()"
   ]
  },
  {
   "cell_type": "code",
   "execution_count": 11,
   "metadata": {
    "slideshow": {
     "slide_type": "-"
    }
   },
   "outputs": [
    {
     "data": {
      "image/png": "[encoded data removed]",
      "text/plain": [
       "<Figure size 432x288 with 1 Axes>"
      ]
     },
     "metadata": {
      "needs_background": "light"
     },
     "output_type": "display_data"
    }
   ],
   "source": [
    "# The linewidth, and linestyle can be changed.\n",
    "# Linestyles include '-', '.-', ':', '--'\n",
    "plt.plot(x, y, 'k:', linewidth=2.0)\n",
    "plt.show()"
   ]
  },
  {
   "cell_type": "code",
   "execution_count": 12,
   "metadata": {
    "slideshow": {
     "slide_type": "-"
    }
   },
   "outputs": [
    {
     "data": {
      "image/png": "[encoded data removed]",
      "text/plain": [
       "<Figure size 432x288 with 1 Axes>"
      ]
     },
     "metadata": {
      "needs_background": "light"
     },
     "output_type": "display_data"
    }
   ],
   "source": [
    "# Markers and their properties can be controlled.\n",
    "# Unfilled markers: '.',+','x','1' to '4','|'\n",
    "plt.plot(x, y, '1', markersize=10)\n",
    "plt.show()"
   ]
  },
  {
   "cell_type": "code",
   "execution_count": 13,
   "metadata": {
    "slideshow": {
     "slide_type": "-"
    }
   },
   "outputs": [
    {
     "data": {
      "image/png": "[encoded data removed]",
      "text/plain": [
       "<Figure size 432x288 with 1 Axes>"
      ]
     },
     "metadata": {
      "needs_background": "light"
     },
     "output_type": "display_data"
    }
   ],
   "source": [
    "# Filled markers include:\n",
    "# 'o', 's','*','d','>','^','v', 'p', 'h'\n",
    "plt.plot(x, y, \"^\", markerfacecolor = 'g', \\\n",
    "      markeredgecolor = 'k',markersize=10)\n",
    "plt.show()"
   ]
  },
  {
   "cell_type": "markdown",
   "metadata": {
    "slideshow": {
     "slide_type": "slide"
    }
   },
   "source": [
    "<br>\n",
    "<hr class=\"top\">\n",
    "## Axes and labels\n",
    "<hr class=\"bot\">\n",
    "<br>\n",
    "\n",
    "Set x-axis and y-axis limits, adjust title font properties."
   ]
  },
  {
   "cell_type": "code",
   "execution_count": 14,
   "metadata": {
    "slideshow": {
     "slide_type": "-"
    }
   },
   "outputs": [
    {
     "data": {
      "image/png": "[encoded data removed]",
      "text/plain": [
       "<Figure size 432x288 with 1 Axes>"
      ]
     },
     "metadata": {
      "needs_background": "light"
     },
     "output_type": "display_data"
    }
   ],
   "source": [
    "# Set axis limits\n",
    "plt.xlim((xmax*0.25, xmax*0.75))\n",
    "plt.ylim((np.cos(xmin*0.25), np.cos(xmax*0.75)))\n",
    "plt.plot(x, y, 'mo-')\n",
    "plt.show()"
   ]
  },
  {
   "cell_type": "code",
   "execution_count": 15,
   "metadata": {
    "slideshow": {
     "slide_type": "-"
    }
   },
   "outputs": [
    {
     "data": {
      "image/png": "[encoded data removed]",
      "text/plain": [
       "<Figure size 432x288 with 1 Axes>"
      ]
     },
     "metadata": {
      "needs_background": "light"
     },
     "output_type": "display_data"
    }
   ],
   "source": [
    "# Add a centered title and set font properties\n",
    "# with 'suptitle'\n",
    "plt.plot(x, y, 'x')\n",
    "#plt.suptitle('A plot of $cos(x)$', fontsize = 20)\n",
    "\n",
    "# Title location can be controlled with 'title' via\n",
    "# \"loc\": center, left, right and\n",
    "# \"verticalalignment\": center, top, bottom, baseline\n",
    "\n",
    "plt.title('A Placed Title', loc = 'left', \\\n",
    "          verticalalignment = 'baseline')\n",
    "plt.show()"
   ]
  },
  {
   "cell_type": "markdown",
   "metadata": {
    "slideshow": {
     "slide_type": "slide"
    }
   },
   "source": [
    "<br>\n",
    "<hr class=\"top\">\n",
    "## Tickmarks and annotations\n",
    "<hr class=\"bot\">\n",
    "<br>\n",
    "\n",
    "Add custom tickmarks and annotations."
   ]
  },
  {
   "cell_type": "code",
   "execution_count": null,
   "metadata": {
    "slideshow": {
     "slide_type": "-"
    }
   },
   "outputs": [],
   "source": [
    "# Tick marks: take the default, or set explicitly\n",
    "fig = plt.figure(figsize=(4,3.5))\n",
    "plt.plot(x, y, 'x')\n",
    "nticks = 4\n",
    "tickpos = np.linspace(xmin,xmax,nticks)\n",
    "ticklabels = np.array(['t1','t2','t3','t4'])\n",
    "plt.xticks(tickpos, ticklabels, \\\n",
    "           rotation='vertical')\n",
    "plt.show()"
   ]
  },
  {
   "cell_type": "code",
   "execution_count": null,
   "metadata": {
    "slideshow": {
     "slide_type": "-"
    }
   },
   "outputs": [],
   "source": [
    "# Arrows and annotations\n",
    "plt.plot(x, y, 'x')\n",
    "atext = 'annotate this'\n",
    "arrowtiploc = (1.5, 0.5)\n",
    "textloc=(3, 0.75)\n",
    "plt.annotate(atext, xy=arrowtiploc, xytext=textloc,\n",
    "            arrowprops=dict(width=5,headwidth=15,\n",
    "            facecolor='red', shrink=0.01),)\n",
    "plt.show()\n",
    "#?plt.annotate"
   ]
  },
  {
   "cell_type": "markdown",
   "metadata": {
    "slideshow": {
     "slide_type": "slide"
    }
   },
   "source": [
    "<br>\n",
    "<hr class=\"top\">\n",
    "## Subplots\n",
    "<hr class=\"bot\">\n",
    "<br>\n",
    "\n",
    "```python\n",
    "    (fig, axes) = subplots(nrows, ncols)\n",
    "```\n",
    "\n",
    "<img src=\"subplotgrid.png\"; style=\"float: right; width: 50%; margin-right: 5%; margin-top: 0%; margin-bottom: 1%\">\n",
    "\n",
    "* There can be multiple plots, i.e. subplots, within a figure\n",
    "\n",
    "\n",
    "* Use `subplots()` to place plots on a regular grid\n",
    "\n",
    "* `subplots()` returns a tuple with a reference to the figure (`fig`) and an array of references to each subplot axes (`axes`)\n",
    "\n",
    "\n",
    "* Need to control which subplot is used\n",
    "\n",
    "    * \"Current\" axes is last created\n",
    "    * Or use `pyplot.sca(ax)` to set the current axes to the axes referenced by `ax`\n",
    "    \n",
    "\n",
    "* Note that there is also `pyplot.subplot()`, which is different"
   ]
  },
  {
   "cell_type": "markdown",
   "metadata": {
    "slideshow": {
     "slide_type": "slide"
    }
   },
   "source": [
    "<br>\n",
    "<hr class=\"top\">\n",
    "## Subplots and axes objects\n",
    "<hr class=\"bot\">\n",
    "<br>\n",
    "\n",
    "Can move between subplots by keeping a reference to each subplot axes using an array called, e.g., `axes`"
   ]
  },
  {
   "cell_type": "code",
   "execution_count": 16,
   "metadata": {
    "slideshow": {
     "slide_type": "-"
    }
   },
   "outputs": [
    {
     "data": {
      "image/png": "[encoded data removed]",
      "text/plain": [
       "<Figure size 432x288 with 4 Axes>"
      ]
     },
     "metadata": {
      "needs_background": "light"
     },
     "output_type": "display_data"
    }
   ],
   "source": [
    "from matplotlib import pyplot as plt\n",
    "(fig, axes) = plt.subplots(nrows = 2, ncols = 2)\n",
    "\n",
    "axes[0,0].plot(x, y, 'b-')\n",
    "axes[1,1].plot(x, y, 'r-')\n",
    "plt.show()\n"
   ]
  },
  {
   "cell_type": "code",
   "execution_count": null,
   "metadata": {
    "slideshow": {
     "slide_type": "-"
    }
   },
   "outputs": [],
   "source": [
    "# Space between subplots may be adjusted.\n",
    "# subplots_adjust(left=None, bottom=None, right=None, top=None,\n",
    "#                 wspace=None, hspace=None)\n",
    "\n",
    "(fig, axes) = plt.subplots(nrows = 2, ncols = 2)\n",
    "plt.subplots_adjust(wspace = 0.5, hspace = 0.5)\n",
    "\n",
    "plt.sca(axes[0,1]) # set current axis\n",
    "plt.plot(x, y, 'b-')\n",
    "plt.sca(axes[1,0])\n",
    "plt.plot(x, y, 'r-')\n",
    "plt.show()"
   ]
  },
  {
   "cell_type": "markdown",
   "metadata": {},
   "source": [
    "Note : if you wanted to call `subplot_adjust()` without using the `pyplot` module, this is what you would have to call:\n",
    "```python\n",
    "matplotlib.figure.Figure.subplots_adjust()\n",
    "```"
   ]
  },
  {
   "cell_type": "markdown",
   "metadata": {
    "slideshow": {
     "slide_type": "slide"
    }
   },
   "source": [
    "<br>\n",
    "<hr class=\"top\">\n",
    "## General subplots using subplot2grid \n",
    "<hr class=\"bot\">\n",
    "<br>\n",
    "\n",
    "<img src=\"subplot2grid.png\"; style=\"float: right; width: 50%; margin-right: 5%; margin-top: 0%; margin-bottom: 1%\">\n",
    "\n",
    "* For more control over subplot layout, use `subplot2grid()`\n",
    "\n",
    "```python\n",
    "subplot2grid(shape,\n",
    "             location,\n",
    "             rowspan = 1,\n",
    "             colspan = 1)\n",
    "```\n",
    "\n",
    "* Subplots can span more than one row or column</p>\n",
    "  \n",
    "<br>\n",
    "<br>"
   ]
  },
  {
   "cell_type": "code",
   "execution_count": null,
   "metadata": {
    "slideshow": {
     "slide_type": "-"
    }
   },
   "outputs": [],
   "source": [
    "# For example:\n",
    "# subplot2grid(shape, loc, rowspan=1, colspan=1)\n",
    "\n",
    "fig = plt.figure()\n",
    "\n",
    "ax1 = plt.subplot2grid((3, 3), (0, 0))\n",
    "ax2 = plt.subplot2grid((3, 3), (0, 1), colspan=2)\n",
    "ax3 = plt.subplot2grid((3, 3), (1, 0), colspan=2, rowspan=2)\n",
    "ax4 = plt.subplot2grid((3, 3), (1, 2), rowspan=2)\n",
    "# what happens if you uncomment the following line? \n",
    "#ax5 = plt.subplot2grid((3, 3), (1, 1), colspan=1, rowspan=1)\n",
    "ax1.plot(x, y, 'rx')\n",
    "ax2.plot(x, y, 'go')\n",
    "# use a html \"hex string\" e.g. '#9933ff',\n",
    "# or RBG tuple in [0,1] range e.g. (0.9,0.9,0.25)\n",
    "ax3.plot(x, y, '-s', color = (0.9,0.9,0.25)) \n",
    "ax4.plot(x, y, 'c-')\n",
    "plt.show()"
   ]
  },
  {
   "cell_type": "markdown",
   "metadata": {
    "slideshow": {
     "slide_type": "slide"
    }
   },
   "source": [
    "<br>\n",
    "<hr class=\"top\">\n",
    "## Exercise : Three plots\n",
    "<hr class=\"bot\">\n",
    "<br>\n",
    "\n",
    "We are now going to try to create a plot, using `subplots()`,  which looks like:\n",
    "\n",
    "<img src = \"exercise2.png\">\n",
    "\n",
    "#### Step 1\n",
    "\n",
    "You will need three sets of data. For the pie chart you will need to create arrays with the four percentages shown. The colours are:\n",
    "```python\n",
    "['yellowgreen', 'gold', 'lightskyblue', 'lightcoral']\n",
    "```\n",
    "\n",
    "The two histograms are generated from data in the files `uniform.dat` and `normal.dat` respectively.\n",
    "\n",
    "#### Step 2\n",
    "\n",
    "You will need to create three subplots, the total size of which can be controled by setting the size of the *figure* object via\n",
    "```python\n",
    "fig.set_size_inches(width, height)\n",
    "```\n",
    "\n",
    "Make sure the pie chart appears in the first subplot.\n",
    "\n",
    "#### Step 3\n",
    "\n",
    "Check the online documentation for the pie chart to see how to produce it:\n",
    "\n",
    "http://matplotlib.org/api/pyplot_api.html#matplotlib.pyplot.pie\n",
    "\n",
    "And check the documentation for the histogram:\n",
    "\n",
    "http://matplotlib.org/api/pyplot_api.html#matplotlib.pyplot.hist\n",
    "\n",
    "<br><br>"
   ]
  },
  {
   "cell_type": "code",
   "execution_count": null,
   "metadata": {},
   "outputs": [],
   "source": [
    "# Again, use the notebook,\n",
    "# or a write your code in a separate file.\n",
    "\n",
    "# Note: To obtain LaTeX fonts, you may need\n",
    "# to uncomment and execute the following...\n",
    "# matplotlib.rcParams[\"text.usetex\"] = True"
   ]
  },
  {
   "cell_type": "markdown",
   "metadata": {
    "slideshow": {
     "slide_type": "slide"
    }
   },
   "source": [
    "<br>\n",
    "<hr class=\"top\">\n",
    "## Solution : Three plots\n",
    "<hr class=\"bot\">\n",
    "<br>\n"
   ]
  },
  {
   "cell_type": "code",
   "execution_count": 18,
   "metadata": {},
   "outputs": [
    {
     "name": "stderr",
     "output_type": "stream",
     "text": [
      "/anaconda3/lib/python3.7/site-packages/matplotlib/axes/_axes.py:6571: UserWarning: The 'normed' kwarg is deprecated, and has been replaced by the 'density' kwarg.\n",
      "  warnings.warn(\"The 'normed' kwarg is deprecated, and has been \"\n"
     ]
    },
    {
     "data": {
      "image/png": "[encoded data removed]",
      "text/plain": [
       "<Figure size 288x576 with 3 Axes>"
      ]
     },
     "metadata": {
      "needs_background": "light"
     },
     "output_type": "display_data"
    }
   ],
   "source": [
    "# %load exercise2.py\n",
    "\n",
    "import numpy as np\n",
    "import matplotlib.pyplot as plt\n",
    "\n",
    "fig, axes = plt.subplots(3, 1)\n",
    "fig.set_size_inches(4.0, 8.0)\n",
    "\n",
    "plt.suptitle(\"THREE PLOTS\", fontsize = 20)\n",
    "plt.subplots_adjust(left = 0.2)\n",
    "\n",
    "pie_labels = 'A', 'B', 'C', 'D'\n",
    "pie_sizes = [15, 30, 35, 20]\n",
    "pie_colours = ['yellowgreen', 'gold', 'lightskyblue', 'lightcoral']\n",
    "pie_radius = 1.1\n",
    "pie_angle = 90\n",
    "\n",
    "plt.sca(axes[0])\n",
    "plt.axis('equal')\n",
    "plt.pie(pie_sizes, labels=pie_labels, colors=pie_colours,\n",
    "        autopct = '%1.0f%%', shadow = False, startangle = pie_angle,\n",
    "        radius = pie_radius, wedgeprops = {\"edgecolor\": \"k\"})\n",
    "\n",
    "data1 = np.genfromtxt(\"uniform.dat\")\n",
    "\n",
    "plt.sca(axes[1])\n",
    "plt.hist(data1, bins = 10, normed = 1, color = \"m\",\n",
    "         label = \"Uniform\", edgecolor = \"k\")\n",
    "plt.ylabel(\"$P(x)$\", size = 18)\n",
    "plt.legend()\n",
    "\n",
    "data2 = np.genfromtxt(\"normal.dat\")\n",
    "\n",
    "plt.sca(axes[2])\n",
    "plt.hist(data2, bins = 10, normed = True, color = \"g\",\n",
    "         label = \"Normal\", edgecolor = \"k\")\n",
    "plt.xlabel(\"Variable $x$\", size = 18)\n",
    "plt.ylabel(\"$P(x)$\", size = 18)\n",
    "plt.legend()\n",
    "\n",
    "plt.show()\n"
   ]
  },
  {
   "cell_type": "markdown",
   "metadata": {},
   "source": [
    " "
   ]
  },
  {
   "cell_type": "markdown",
   "metadata": {
    "slideshow": {
     "slide_type": "slide"
    }
   },
   "source": [
    "<br>\n",
    "<hr class=\"top\">\n",
    "## Other type of plots\n",
    "<hr class=\"bot\">\n",
    "<br>\n",
    "\n",
    "#### Check the gallery\n",
    "\n",
    "http://matplotlib.org/gallery.html\n",
    "\n",
    "<br>"
   ]
  },
  {
   "cell_type": "markdown",
   "metadata": {
    "slideshow": {
     "slide_type": "slide"
    }
   },
   "source": [
    "<br>\n",
    "<hr class=\"top\">\n",
    "## Customisation : matplotlibrc settings\n",
    "<hr class=\"bot\">\n",
    "<br>\n",
    "\n",
    "* Particular settings for `matplotlib` can be stored in a file called the `matplotlibrc` file.\n",
    "\n",
    "```python\n",
    "import matplotlib\n",
    "\n",
    "matplotlib.rc_file(\"/path/to/my/matplotlibrc\")\n",
    "```\n",
    "\n",
    "* You would edit the `matplotlibrc` for different journal or presentation styles, for example. You could have a separate `matplotlibrc` for each type of style\n",
    "\n",
    "\n",
    "* Matplotlib will look in your current directory first, then in `$MATPLOTLIBRC/matplotlibrc`, then somewhere like .matplotlib/matplotlibrc, then in the INSTALL directory\n",
    "e.g. `usr/lib/python2.7/site-packages/matplotlib/...` (Unix)\n",
    "\n",
    "\n",
    "* Can find where the current `matplotlibrc` file lives with command `matplotlib.matplotlib_fname()`\n",
    "\n",
    "See http://matplotlib.org/users/customizing.html\n",
    "<br>\n",
    "<br>"
   ]
  },
  {
   "cell_type": "code",
   "execution_count": null,
   "metadata": {},
   "outputs": [],
   "source": [
    "import matplotlib\n",
    "#import matplotlib.pyplot as plt\n",
    "\n",
    "!ls \n",
    "\n",
    "# This is read at start-up, so you may need to restart the session\n",
    "# Remember to import matplotlib and pyplot\n",
    "matplotlib.rc_file(\"matplotlibrc.test\")"
   ]
  },
  {
   "cell_type": "code",
   "execution_count": null,
   "metadata": {},
   "outputs": [],
   "source": [
    "plt.plot(x, y, \"r+\")\n",
    "plt.show()\n",
    "! cat matplotlibrc.test"
   ]
  },
  {
   "cell_type": "code",
   "execution_count": null,
   "metadata": {},
   "outputs": [],
   "source": [
    "! cat matplotlibrc.test"
   ]
  },
  {
   "cell_type": "markdown",
   "metadata": {
    "slideshow": {
     "slide_type": "slide"
    }
   },
   "source": [
    "<br>\n",
    "<hr class=\"top\">\n",
    "## matplotlibrc settings\n",
    "<hr class=\"bot\">\n",
    "<br>\n",
    "\n",
    "Example\n",
    "\n",
    "```python\n",
    "axes.labelsize  : 9.0\n",
    "xtick.labelsize : 9.0\n",
    "ytick.labelsize : 9.0\n",
    "legend.fontsize : 9.0\n",
    "font.family     : serif  \n",
    "font.serif      : Computer Modern Roman\n",
    "\n",
    "# Marker size\n",
    "lines.markersize  : 3\n",
    "\n",
    "# Use TeX to format all text (Agg, ps, pdf backends)\n",
    "text.usetex : True\n",
    "```\n"
   ]
  },
  {
   "cell_type": "markdown",
   "metadata": {
    "slideshow": {
     "slide_type": "slide"
    }
   },
   "source": [
    "<br>\n",
    "<hr class=\"top\">\n",
    "## Exercise : Custom configurations\n",
    "<hr class=\"bot\">\n",
    "<br>\n",
    "\n",
    "#### Step 1\n",
    "Copy the settings provided above (or create some of your own) to a file\n",
    "\n",
    "#### Step 2\n",
    "In a separate notebook or python script, recreate the 3-subplot figure of the previous exercise with the new settings\n"
   ]
  },
  {
   "cell_type": "markdown",
   "metadata": {
    "slideshow": {
     "slide_type": "slide"
    }
   },
   "source": [
    "<br>\n",
    "<hr class=\"top\">\n",
    "## Summary \n",
    "<hr class=\"bot\">\n",
    "<br>\n",
    "\n",
    "* Builds on `numpy`\n",
    "\n",
    "\n",
    "* Simple, interactive plotting\n",
    "\n",
    "\n",
    "* Many examples available online\n",
    "\n",
    "\n",
    "* Good enough for publication quality images\n",
    "\n",
    "\n",
    "* Can be customised for different scenarios\n",
    "\n",
    "<br>\n",
    "\n",
    "* Next: SciPy\n",
    "\n",
    "<br>"
   ]
  },
  {
   "cell_type": "markdown",
   "metadata": {},
   "source": [
    "<br>\n",
    "<hr class=\"top\">\n",
    "## Note on $\\LaTeX$ mark-ups\n",
    "<hr class=\"bot\">\n",
    "<br>\n",
    "\n",
    "* $\\TeX$ mark-ups may be used in matplotlib labels etc\n",
    "\n",
    "* Strings containing mark-ups introduced by \"`\\ `\" may require that the relevant string is prefixed by \"`r`\" (raw string) \n",
    "\n",
    "* This determines the way in which escaped literals are interpreted by python\n",
    "\n",
    "\n",
    "Example"
   ]
  },
  {
   "cell_type": "code",
   "execution_count": null,
   "metadata": {},
   "outputs": [],
   "source": [
    "plt.plot(x, y, \"-\")\n",
    "plt.xlabel(r\"Label is $\\theta$\", fontsize = 16)\n",
    "plt.ylabel(r\"Label is $\\cos(\\theta)$\", fontsize = 16)\n",
    "plt.show()"
   ]
  },
  {
   "cell_type": "markdown",
   "metadata": {
    "slideshow": {
     "slide_type": "slide"
    }
   },
   "source": [
    "<br>\n",
    "<hr class=\"top\">\n",
    "## Advanced topic : Matplotlib frontend and backend\n",
    "<hr class=\"bot\">\n",
    "<br>\n",
    "\n",
    "Matplotlib consists of two parts, a frontend and a backend:\n",
    " \n",
    "  * Frontend : the user facing code i.e the interface\n",
    "  * Backend : does all the hard work behind-the-scenes to render the image\n",
    "  \n",
    "There are two types of backend:\n",
    "\n",
    "  * User interface, or *interactive*, backends\n",
    "   \n",
    "   \n",
    "  * Hardcopy, or *non-interactive*, backends to make image files\n",
    "  \n",
    "   * e.g. Agg (png), Cairo (svg), PDF (pdf), PS (eps, ps)\n",
    "\n",
    "  \n",
    "  * Check which backend is being used with\n",
    "  \n",
    "  \n",
    "```python\n",
    "matplotlib.get_backend()\n",
    "```\n",
    "       \n",
    " \n",
    "  * Switch to a different backend (*before* importing `pyplot`) with\n",
    "  \n",
    "```python\n",
    "matplotlib.use(...)\n",
    "import matplot.pyplot as plt\n",
    "...\n",
    "```\n",
    "\n",
    "For more information:\n",
    "\n",
    "http://matplotlib.org/faq/usage_faq.html#what-is-a-backend\n",
    " \n",
    " \n",
    " \n",
    "<br>\n"
   ]
  },
  {
   "cell_type": "markdown",
   "metadata": {
    "slideshow": {
     "slide_type": "slide"
    }
   },
   "source": [
    "<br>\n",
    "<hr class=\"top\">\n",
    "## Advanced topic : Interactive mode and the iPython shell\n",
    "<hr class=\"bot\">\n",
    "<br>\n",
    "\n",
    "* By default, the iPython shell will not display figures to the screen until the `plt.show()` command\n",
    "\n",
    "  * This command \"blocks\" any further commands being issued in the shell\n",
    "  * Close the figure using the window manager to continue issuing commands in the shell\n",
    "\n",
    "\n",
    "* In \"interactive\" mode, the iPython backend points to an \"interactive\" backend, which allows a figure display to screen as soon as either `plt.figure()` or `plt.plot()` is called\n",
    "\n",
    "  * The displayed figure can be updated \"interactively\" by issuing further commands in the shell\n",
    "\n",
    "\n",
    "* To run an iPython shell in \"interactive\" mode, can launch the shell with\n",
    "\n",
    "```bash\n",
    "bash> ipython --matplotlib\n",
    "\n",
    "```\n",
    "* Or issue `%matplotlib` from within the shell. Note: this must be done before importing anything from `matplotlib`\n",
    "\n",
    "\n",
    "* An \"interactive\" backend does not however guarantee your figures will automatically display to screen (not as simple as that, see link below)\n",
    "\n",
    "\n",
    "* You can query if your shell is in \"interactive\" mode with: `matplotlib.is_interactive()`\n",
    "\n",
    "<br>\n",
    "\n",
    "\n",
    "For more information:\n",
    "\n",
    "http://matplotlib.org/faq/usage_faq.html#what-is-interactive-mode"
   ]
  },
  {
   "cell_type": "markdown",
   "metadata": {},
   "source": [
    "<br>\n",
    "<hr class=\"top\">\n",
    "<hr class=\"bot\">\n",
    "<br>"
   ]
  },
  {
   "cell_type": "code",
   "execution_count": null,
   "metadata": {},
   "outputs": [],
   "source": [
    "# This cell is for the presenter\n",
    "from IPython.core.display import display, HTML\n",
    "\n",
    "styles = open(\"../style.css\", \"r\").read()\n",
    "display(HTML(styles))\n"
   ]
  }
 ],
 "metadata": {
  "anaconda-cloud": {},
  "celltoolbar": "Raw Cell Format",
  "kernelspec": {
   "display_name": "Python 3",
   "language": "python",
   "name": "python3"
  },
  "language_info": {
   "codemirror_mode": {
    "name": "ipython",
    "version": 3
   },
   "file_extension": ".py",
   "mimetype": "text/x-python",
   "name": "python",
   "nbconvert_exporter": "python",
   "pygments_lexer": "ipython3",
   "version": "3.7.0"
  }
 },
 "nbformat": 4,
 "nbformat_minor": 1
}
