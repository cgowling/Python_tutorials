{
 "cells": [
  {
   "cell_type": "markdown",
   "metadata": {},
   "source": [
    "<hr style=\"border: solid 1px red; margin-bottom: 2% \">\n",
    "## ARCHER COURSE\n",
    "# Scientific Programming using Python\n",
    "<hr style=\"border: solid 1px red; margin-bottom: -1%; \">\n",
    "\n",
    "## Website:  http://www.archer.ac.uk \n",
    "\n",
    "## Helpdesk: support@archer.ac.uk\n",
    "\n",
    "<br>\n",
    "\n",
    "<img src=\"images/epsrclogo.png\"; style=\"float: center; width: 40%\">\n",
    "<br>\n",
    "<img src=\"images/nerclogo.png\"; style=\"float: center; width: 40%\">\n",
    "\n",
    "<br>\n",
    "<img src=\"images/craylogo.png\"; style=\"float: center; width: 40%\">\n",
    "\n",
    "<br>\n",
    "<img src=\"images/epcclogo.png\"; style=\"float: center; width: 40%\">\n",
    "\n",
    "<br>\n",
    "<img src=\"images/ediunilogo.png\"; style=\"float: center; width: 40%\" > \n",
    "\n",
    "<br>\n",
    "<br>\n",
    "\n"
   ]
  },
  {
   "cell_type": "markdown",
   "metadata": {},
   "source": [
    "<img src=\"images/reusematerial.png\"; style=\"float: center; width: 90\"; >"
   ]
  },
  {
   "cell_type": "markdown",
   "metadata": {
    "slideshow": {
     "slide_type": "slide"
    }
   },
   "source": [
    "<br>\n",
    "<hr style=\"border: solid 1px red; margin-bottom: -1% \">\n",
    "# Scientific Python: Timetable\n",
    "<hr style=\"border: solid 1px red; margin-top: 1.5% \">\n",
    "\n",
    "\n",
    "## Alan Turing Institute 17-18 May 2018\n",
    "### Presenters: Neelofer Banglawala, Kevin Stratford\n",
    "\n",
    "\n",
    "### DAY ONE\n",
    "\n",
    "```\n",
    "09:45 Registration and check installations\n",
    "10:15 L01 : Introduction\n",
    "11:15 Break\n",
    "11:30 L02 : NumPy\n",
    "13:00 Lunch\n",
    "\n",
    "14:00 L03 : Matplotlib\n",
    "15:30 Break\n",
    "16:30 Exercises\n",
    "17:00 end\n",
    "```\n",
    "\n",
    "### DAY TWO\n",
    "\n",
    "```\n",
    "10:00 L04 : SciPy\n",
    "11:00 Break\n",
    "11:30 L05 : Fortran/C Interfaces\n",
    "13:00 Lunch\n",
    "\n",
    "14:00 L06 : Python classes\n",
    "15:30 Break\n",
    "15:45 L07 : Parallel processing and mpi4py; ARCHER Exercise\n",
    "16:45 Close\n",
    "```"
   ]
  },
  {
   "cell_type": "markdown",
   "metadata": {
    "slideshow": {
     "slide_type": "slide"
    }
   },
   "source": [
    "<br>\n",
    "<hr style=\"border: solid 1px red; margin-bottom: 2% \">\n",
    "## Course materials\n",
    "<hr style=\"border: solid 1px red; margin-bottom: -1%; \">\n",
    "\n",
    "### Course web page:\n",
    "\n",
    "https://www.archer.ac.uk/training/course-material/2018/04/python-ati\n",
    "\n",
    "```\n",
    "bash> tar zxvf sci-py.tar.gz\n",
    "```\n",
    "OR\n",
    "```\n",
    "bash> unzip sci-py.zip\n",
    "```\n",
    "\n",
    "And from Archer\n",
    "```\n",
    "wget https://www.archer.ac.uk/training/course-material/2018/04/python-ati/sci-py.tar.gz\n",
    "```\n",
    "\n",
    "#### You will need:\n",
    "\n",
    "1. Laptop (Windows/Unix)\n",
    "2. Anaconda distribution of Python <b>VERSION 2.7</b>\n",
    "https://www.continuum.io/downloads\n",
    "\n",
    "3. Course material (including these notebooks) download from web page\n",
    "\n",
    "\n",
    "Please make sure you have signed in and have a ARCHER Guest Account sheet.\n",
    "\n",
    "\n",
    "<br>\n",
    "<br>\n",
    "\n",
    "\n"
   ]
  },
  {
   "cell_type": "markdown",
   "metadata": {
    "slideshow": {
     "slide_type": "slide"
    }
   },
   "source": [
    "\n",
    "<br>\n",
    "<br>\n",
    "<hr style=\"border: solid 1px red; margin-bottom: 2% \">\n",
    "## At the end\n",
    "<hr style=\"border: solid 1px red; margin-bottom: -1%; \">\n",
    "\n",
    "### Please remember feedback\n",
    "\n",
    "* Link will appear here\n",
    "\n",
    "\n",
    "### Want an ARCHER account?\n",
    "\n",
    "* Try the ARCHER Driving Test!\n",
    "\n",
    "http://www.archer.ac.uk/training/course-material/online/driving_test.php\n",
    "\n",
    "<br>\n",
    "<br>\n",
    "<hr class = \"top\">\n",
    "<hr class = \"bot\">\n",
    "\n",
    "\n"
   ]
  },
  {
   "cell_type": "code",
   "execution_count": 1,
   "metadata": {},
   "outputs": [
    {
     "data": {
      "text/html": [
       "\n",
       "<style>\n",
       "\n",
       ".container {\n",
       "  width:75% !important;\n",
       "}\n",
       "\n",
       "\n",
       "\n",
       "hr.top {\n",
       "  border: solid 1px red;\n",
       "  margin-bottom: 2%;\n",
       "  margin-top: 2cm;\n",
       "}\n",
       "\n",
       "hr.bot {\n",
       "  border: solid 1px red;\n",
       "}\n",
       "\n",
       "div.warn {\n",
       "  background-color: mistyrose;\n",
       "  border-color: red;\n",
       "  border-left: 5px solid red;\n",
       "  padding: 0.5em;\n",
       "}\n",
       "</style>\n"
      ],
      "text/plain": [
       "<IPython.core.display.HTML object>"
      ]
     },
     "metadata": {},
     "output_type": "display_data"
    }
   ],
   "source": [
    "from IPython.core.display import display, HTML\n",
    "\n",
    "styles = open(\"./style.css\", \"r\").read()\n",
    "display(HTML(styles))"
   ]
  }
 ],
 "metadata": {
  "anaconda-cloud": {},
  "celltoolbar": "Raw Cell Format",
  "kernelspec": {
   "display_name": "Python 3",
   "language": "python",
   "name": "python3"
  },
  "language_info": {
   "codemirror_mode": {
    "name": "ipython",
    "version": 3
   },
   "file_extension": ".py",
   "mimetype": "text/x-python",
   "name": "python",
   "nbconvert_exporter": "python",
   "pygments_lexer": "ipython3",
   "version": "3.6.3"
  }
 },
 "nbformat": 4,
 "nbformat_minor": 1
}
