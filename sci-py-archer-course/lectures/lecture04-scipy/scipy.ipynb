{
 "cells": [
  {
   "cell_type": "markdown",
   "metadata": {},
   "source": [
    "\n",
    "<hr style=\"border: solid 1px red; margin-bottom: 2% \">\n",
    "## ARCHER COURSE\n",
    "# SCIENTIFIC PYTHON : SCIPY\n",
    "<hr style=\"border: solid 1px red; margin-bottom: -1%; \">\n",
    "<br>\n",
    "\n",
    "## Website:  http://www.archer.ac.uk \n",
    "\n",
    "## Helpdesk: support@archer.ac.uk\n",
    "\n",
    "<br>\n",
    "\n",
    "<img src=\"images/epsrclogo.png\" style=\"float: center; width: 40%\">\n",
    "<br>\n",
    "<img src=\"images/nerclogo.png\" style=\"float: center; width: 40%\">\n",
    "\n",
    "<br>\n",
    "<img src=\"images/craylogo.png\" style=\"float: center; width: 40%\">\n",
    "\n",
    "<br>\n",
    "<img src=\"images/epcclogo.png\" style=\"float: center; width: 40%\">\n",
    "\n",
    "<br>\n",
    "<img src=\"images/ediunilogo.png\" style=\"float: center; width: 40%\" > \n",
    "\n",
    "<br>\n",
    "<br>\n",
    "\n"
   ]
  },
  {
   "cell_type": "markdown",
   "metadata": {},
   "source": [
    "<img src=\"images/reusematerial.png\" style=\"float: center; width: 90\" >\n",
    "<br>\n",
    "<br>"
   ]
  },
  {
   "cell_type": "markdown",
   "metadata": {
    "slideshow": {
     "slide_type": "slide"
    }
   },
   "source": [
    "\n",
    "<hr class=\"top\">\n",
    "# SciPy\n",
    "<hr class=\"bot\">\n",
    "\n",
    "### Presenter:  Kevin Stratford\n",
    "\n",
    "#### Contributing authors: \n",
    "#### Neelofer Bangawala, Arno Proeme, Kevin Stratford, Andy Turner\n",
    "\n",
    "<br>\n",
    "<br>\n",
    "<br>"
   ]
  },
  {
   "cell_type": "markdown",
   "metadata": {
    "slideshow": {
     "slide_type": "slide"
    }
   },
   "source": [
    "<br>\n",
    "<hr class=\"top\">\n",
    "## Overview\n",
    "<hr class=\"bot\">\n",
    "<br>\n",
    "\n",
    "* NumPy provides arrays and limited additional functionality\n",
    "\n",
    "\n",
    "* SciPy builds on NumPy and provides additional modules:\n",
    "  * Linear Algebra and wrappers to LAPACK & BLAS `scipy.linalg`\n",
    "  * Numerical Integration `scipy.integrate` \n",
    "  * Interpolation `scipy.interpolate`\n",
    "  * Optimisation `scipy.optimize` \n",
    "  * Special functions `scipy.special`\n",
    "  * Signal processing `scipy.signal`\n",
    "  * Image Processing `scipy.ndimage`\n",
    "  * Fourier transforms `scipy.fftpack`\n",
    "  * Statistical functions `stats` \n",
    "  * Spatial data structures and algorithms `scipy.spatial`\n",
    "  * File I/O e.g. to read MATLAB files `scipy.io`\n",
    "  <br>"
   ]
  },
  {
   "cell_type": "markdown",
   "metadata": {
    "slideshow": {
     "slide_type": "slide"
    }
   },
   "source": [
    "<br>\n",
    "<hr class=\"top\">\n",
    "## Useful links\n",
    "<hr class=\"bot\">\n",
    "<br>\n",
    "\n",
    "* Note: no PDE solvers (though other packages exist) \n",
    "\n",
    "\n",
    "* Documentation: \n",
    "  * <p style=\"font-size: 100%\"> http://docs.scipy.org/doc/scipy/reference/tutorial/ </p>\n",
    "  \n",
    "  * <p style=\"font-size: 100%\"> http://docs.scipy.org/doc/scipy/reference/ </p>\n",
    "  \n",
    "  * <p style=\"font-size: 100%\"> http://scipy-cookbook.readthedocs.org </p>"
   ]
  },
  {
   "cell_type": "markdown",
   "metadata": {},
   "source": [
    " "
   ]
  },
  {
   "cell_type": "markdown",
   "metadata": {
    "slideshow": {
     "slide_type": "slide"
    }
   },
   "source": [
    "<br>\n",
    "<hr class=\"top\">\n",
    "## Linear algebra\n",
    "<hr class=\"bot\">\n",
    "<br>\n",
    "\n",
    "* Wider set of linear algebra operations than in Numpy \n",
    "\n",
    "  * <p style=\"font-size: 100%\">various decompositions (eigen, singular value)</p>\n",
    "  * <p style=\"font-size: 100%\">matrix exponentials, trigonometric functions</p> \n",
    "  * <p style=\"font-size: 100%\">particular matrix equations and special matrices</p>\n",
    "  * <p style=\"font-size: 100%\">low-level LAPACK and BLAS routines</p>\n",
    "  \n",
    "  \n",
    "* Routines also for sparse matrices\n",
    "  * <p style=\"font-size: 100%\">storage formats</p> \n",
    "  * <p style=\"font-size: 100%\">iterative algorithms</p>"
   ]
  },
  {
   "cell_type": "markdown",
   "metadata": {},
   "source": [
    "  "
   ]
  },
  {
   "cell_type": "markdown",
   "metadata": {
    "slideshow": {
     "slide_type": "slide"
    }
   },
   "source": [
    "<br>\n",
    "<hr class=\"top\">\n",
    "## Example: Matrix inverse\n",
    "<hr class=\"bot\">\n",
    "<br>\n",
    "Consider:\n",
    "\n",
    "$$\n",
    "A = \\left[ \\begin{array}\n",
    "{rrr}\n",
    "1 & 3 & 5 \\\\\n",
    " 2 & 5 & 1 \\\\\n",
    " 2 & 3 & 8 \\\\\n",
    "\\end{array} \\right]\n",
    "$$\n",
    "\n",
    "The inverse of $A$ is\n",
    "\n",
    "$$\n",
    "A^{-1} = \n",
    "\\frac{1}{25} \\left[ \\begin{array}\n",
    "{rrr}\n",
    "-37 & 9 & 22\\\\\n",
    "14 & 2 & -9 \\\\ \n",
    "4 & -3 & 1\\\\\n",
    "\\end{array} \\right]\n",
    "\\approx\n",
    "\\left[ \\begin{array}\n",
    "{rrr}\n",
    "-1.48 & 0.36 &  0.88\\\\\n",
    "-0.56 &  0.08 & -0.36 \\\\ \n",
    "0.16 & -0.12 &  0.04\\\\\n",
    "\\end{array} \\right]\n",
    "$$\n",
    "\n",
    "which may be confirmed by checking $A A^{-1} = I$ where $I$ is the identity.\n"
   ]
  },
  {
   "cell_type": "markdown",
   "metadata": {
    "slideshow": {
     "slide_type": "subslide"
    }
   },
   "source": [
    "<br>\n",
    "<hr class=\"top\">\n",
    "## Exercise: Matrix inverse\n",
    "<hr class=\"bot\">\n",
    "<br>\n",
    "\n",
    "Find inverse of matrix A (as defined above). Check the result by multiplying out  $A A^{-1}$ , which should give \n",
    "identity matrix  $I$"
   ]
  },
  {
   "cell_type": "code",
   "execution_count": 1,
   "metadata": {
    "scrolled": true,
    "slideshow": {
     "slide_type": "-"
    }
   },
   "outputs": [],
   "source": [
    "# numpy has a function to produce the 2D identity matrix I\n",
    "# query: ?np.eye\n",
    "\n",
    "from scipy import linalg\n",
    "A = ...\n",
    "\n"
   ]
  },
  {
   "cell_type": "markdown",
   "metadata": {
    "slideshow": {
     "slide_type": "subslide"
    }
   },
   "source": [
    "<br>\n",
    "<hr class=\"top\">\n",
    "## Solution : Matrix inverse\n",
    "<hr class=\"bot\">\n",
    "<br>"
   ]
  },
  {
   "cell_type": "code",
   "execution_count": 3,
   "metadata": {},
   "outputs": [
    {
     "name": "stdout",
     "output_type": "stream",
     "text": [
      "[[ 1.00000000e+00 -1.11022302e-16 -6.24500451e-17]\n",
      " [ 3.05311332e-16  1.00000000e+00  1.87350135e-16]\n",
      " [ 2.22044605e-16 -1.11022302e-16  1.00000000e+00]]\n",
      "[[1. 0. 0.]\n",
      " [0. 1. 0.]\n",
      " [0. 0. 1.]]\n"
     ]
    }
   ],
   "source": [
    "# %load inverse.py\n",
    "# find inverse of matrix\n",
    "\n",
    "import numpy as np\n",
    "from scipy import linalg\n",
    "\n",
    "\n",
    "a = np.array([[1,3,5], [2,5,1], [2,3,8]])\n",
    "\n",
    "ainv = linalg.inv(a)\n",
    "\n",
    "# check inverse gives identity \n",
    "identity = a.dot(ainv)\n",
    "print(identity)\n",
    "# This really is the identity if we take 1 sig. fig.\n",
    "print(np.abs(np.around(identity, 0)))\n"
   ]
  },
  {
   "cell_type": "markdown",
   "metadata": {},
   "source": [
    " "
   ]
  },
  {
   "cell_type": "markdown",
   "metadata": {
    "slideshow": {
     "slide_type": "subslide"
    }
   },
   "source": [
    "<br>\n",
    "<hr class=\"top\">\n",
    "## Integration: `scipy.integrate`\n",
    "<hr class=\"bot\">\n",
    "<br>\n",
    "\n",
    "* Routines for numerical integration – single, double and triple integrals \n",
    "* Can solve Ordinary Differential Equations (ODEs) with initial conditions\n",
    "\n",
    "### Example : Double integral\n",
    "Calculate $\\pi$ using the double integral for the area of a circle with radius $r$: <br>\n",
    "\n",
    "$$\n",
    "\\int _{x_{min}} ^{x_{max}}\\, dx \\int _{g(x)} ^{h(x)} f(x,y) \\, dy = \\int _{-r} ^{r} \\int _{-\\sqrt(r^2-x^2)} ^{\\sqrt(r^2-x^2)} 1 \\, dx\\, dy = \\pi r^2\n",
    "$$\n",
    "\n",
    "We will solve this with `scipy.integrate.dblquad()`\n",
    "\n",
    "http://docs.scipy.org/doc/scipy-0.17.0/reference/generated/scipy.integrate.dblquad.html\n",
    "<br>\n",
    "<br>"
   ]
  },
  {
   "cell_type": "code",
   "execution_count": 6,
   "metadata": {
    "scrolled": true,
    "slideshow": {
     "slide_type": "-"
    }
   },
   "outputs": [
    {
     "name": "stdout",
     "output_type": "stream",
     "text": [
      "3.1415926535897984\n",
      "3.141592653589793\n"
     ]
    }
   ],
   "source": [
    "# numerically integrate using dblquad()\n",
    "\n",
    "import numpy as np\n",
    "from scipy.integrate import dblquad\n",
    "\n",
    "# order of variables matters! y before x\n",
    "\n",
    "def integrand(y, x):\n",
    "    return 1\n",
    "\n",
    "def xminlim(x, r):\n",
    "    return -1*np.sqrt(r*r - x*x)\n",
    "\n",
    "def xmaxlim(x, r):\n",
    "    return np.sqrt(r*r - x*x)\n",
    "\n",
    "# integral for the area of a circle with radius r\n",
    "def integrate_to_pi(r): \n",
    "    (area,err) = dblquad(integrand, -1*r, r, \n",
    "                         lambda x: xminlim(x,r), \n",
    "                         lambda x: xmaxlim(x,r))\n",
    "    return area/(r*r)\n",
    "r = 3\n",
    "print(integrate_to_pi(r))\n",
    "\n",
    "print(np.pi)\n"
   ]
  },
  {
   "cell_type": "markdown",
   "metadata": {
    "slideshow": {
     "slide_type": "subslide"
    }
   },
   "source": [
    "<br>\n",
    "<hr class=\"top\">\n",
    "## Integration : Check result\n",
    "<hr class=\"bot\">\n",
    "<br>\n",
    "\n",
    "Calculate the result and compare with the standard `numpy.pi`"
   ]
  },
  {
   "cell_type": "code",
   "execution_count": 7,
   "metadata": {
    "scrolled": true,
    "slideshow": {
     "slide_type": "-"
    }
   },
   "outputs": [
    {
     "name": "stdout",
     "output_type": "stream",
     "text": [
      "3.1415926535897967\n",
      "-3.552713678800501e-15\n"
     ]
    }
   ],
   "source": [
    "# %load pi_integration_check.py\n",
    "# calculate pi using numerical integration and check result against numpy constant np.pi\n",
    "\n",
    "print(integrate_to_pi(1.0))\n",
    "\n",
    "# compare with numpy pi\n",
    "print(np.pi - integrate_to_pi(1.0))\n",
    "\n",
    "# can try timing... (uncomment line below)\n",
    "# %timeit integrate_to_pi(1.0) \n"
   ]
  },
  {
   "cell_type": "markdown",
   "metadata": {},
   "source": [
    "  "
   ]
  },
  {
   "cell_type": "markdown",
   "metadata": {
    "slideshow": {
     "slide_type": "subslide"
    }
   },
   "source": [
    "<br>\n",
    "<hr class=\"top\">\n",
    "## Exercise : Double integral\n",
    "<hr class=\"bot\">\n",
    "<br>\n",
    "\n",
    "Calculate the double integral\n",
    "\n",
    "$$\n",
    "\\int_0^{\\pi/2} dx \\int_0^1 dy \\quad f(x,y)\n",
    "$$\n",
    "\n",
    "where $f(x,y) = y sin(x)$. The answer should be 1/2.\n",
    "<br>\n",
    "<br>"
   ]
  },
  {
   "cell_type": "code",
   "execution_count": 17,
   "metadata": {
    "scrolled": true,
    "slideshow": {
     "slide_type": "-"
    }
   },
   "outputs": [
    {
     "name": "stdout",
     "output_type": "stream",
     "text": [
      "0.5\n"
     ]
    }
   ],
   "source": [
    "# Use the same approach here as above\n",
    "\n",
    "def integrand1(y,x):\n",
    "    return y*np.sin(x)\n",
    "\n",
    "def xminlim(x):\n",
    "    return 0\n",
    "\n",
    "def xmaxlim(x):\n",
    "    return 1\n",
    "\n",
    "def integrate_double(): \n",
    "    (area,err) = dblquad(integrand, 0, np.pi/2, \n",
    "                         lambda x: xminlim(x), \n",
    "                         lambda x: xmaxlim(x))\n",
    "    return area\n",
    "print(integrate_double())\n"
   ]
  },
  {
   "cell_type": "markdown",
   "metadata": {
    "slideshow": {
     "slide_type": "subslide"
    }
   },
   "source": [
    "<br>\n",
    "<hr class=\"top\">\n",
    "## Solution : Double integral\n",
    "<hr class=\"bot\">\n",
    "<br>"
   ]
  },
  {
   "cell_type": "code",
   "execution_count": 2,
   "metadata": {
    "slideshow": {
     "slide_type": "-"
    }
   },
   "outputs": [
    {
     "data": {
      "text/plain": [
       "0.5"
      ]
     },
     "execution_count": 2,
     "metadata": {},
     "output_type": "execute_result"
    }
   ],
   "source": [
    "# %load integration.py\n",
    "# Integral x = [0, pi/2] y = [0, 1] f(x,y) = ysin(x)\n",
    "# numerically solve the integral using dblquad\n",
    "\n",
    "import numpy as np\n",
    "from scipy.integrate import dblquad\n",
    "\n",
    "# order of arguments matters!\n",
    "def integrand(y,x): \n",
    "    return y*np.sin(x)\n",
    "\n",
    "# integrate f(x, y) = y * sin (x)\n",
    "def integrate_this(): \n",
    "    (area,err) = dblquad(integrand, 0,np.pi/2, \n",
    "                         lambda x: 0, \n",
    "                         lambda x: 1)\n",
    "    return area\n",
    "\n",
    "integrate_this()\n"
   ]
  },
  {
   "cell_type": "markdown",
   "metadata": {
    "slideshow": {
     "slide_type": "subslide"
    }
   },
   "source": [
    "<br>\n",
    "<hr class=\"top\">\n",
    "## Example : Pendulum\n",
    "<hr class=\"bot\">\n",
    "<br>\n",
    "\n",
    "Solve Ordinary Differential Equations (ODEs) with initial conditions, for example motion of simple pendulum.\n",
    "\n",
    "A point mass, $m$, is attached to the end of a massless rigid rod of length $l$. The pendulum is acted on by gravity and friction. We can describe the resulting motion of the pendulum by angle, $\\theta$, it makes with the vertical. \n",
    "\n",
    "<img src=\"pendulum.png\"; style=\"float: right; width: 40%; margin-right: 3%; margin-top: 0%; margin-bottom: -1%\">  <br>\n",
    "\n",
    "Assuming angle $\\theta$ always remains small, we can write a second-order differential equation to describe the motion of the mass according to Newton's 2nd law of motion, $m\\,a = F$, in terms of $\\theta$:\n",
    "\n",
    "$$\n",
    "\\ddot{\\theta} = -\\frac{g}{l}\\,\\theta - \\frac{b}{m}\\,\\dot\\theta\n",
    "$$\n",
    "\n",
    "where $b$ is a constant of friction and $b \\ll g$.\n",
    "\n",
    "\n",
    "To use `odeint`, we rewrite the above equation as 2 first-order differential equations:\n",
    "\n",
    "\n",
    "$\n",
    "\\dot{\\theta} = \\omega\n",
    "$\n",
    "\n",
    "$\n",
    "\\dot{\\omega}= -\\frac{g}{l}\\,\\theta - \\frac{b}{m}\\,\\omega\n",
    "$\n",
    "\n",
    "</p>\n",
    "\n"
   ]
  },
  {
   "cell_type": "code",
   "execution_count": 3,
   "metadata": {},
   "outputs": [],
   "source": [
    "from scipy.integrate import odeint\n",
    "\n",
    "\n",
    "def pend( y, t ,g,l,b,m):\n",
    "    theta,omega = y\n",
    "    dydt = [omega, -(g/l)*theta -(b/m)*omega]\n",
    "    return dydt\n",
    "\n",
    "m = 1.0                \n",
    "l = 1.0          \n",
    "b = 0.25               \n",
    "g = 9.81            \n",
    "theta0 = np.pi-0.01 \n",
    "omega0 = 0 \n",
    "\n",
    "y0 = [theta0, omega0]\n",
    "t = np.linspace(0, 10, 101)\n",
    "\n",
    "sol = odeint(pend, y0, t, args=(g,l,b,m))\n",
    "#print(sol)\n",
    "    "
   ]
  },
  {
   "cell_type": "markdown",
   "metadata": {
    "slideshow": {
     "slide_type": "subslide"
    }
   },
   "source": [
    "<br>\n",
    "<hr class=\"top\">\n",
    "## Pendulum (cont.)\n",
    "<hr class=\"bot\">\n",
    "<br>\n",
    "\n",
    "<p style=\"font-size: 100%\"> Define the ODE as a function and set up parameters and initial values. </p>"
   ]
  },
  {
   "cell_type": "code",
   "execution_count": 5,
   "metadata": {
    "scrolled": true,
    "slideshow": {
     "slide_type": "-"
    }
   },
   "outputs": [],
   "source": [
    "# ode as a function\n",
    "\n",
    "# let y be vector  [theta, omega]\n",
    "def pendulumNumerical(y, t, b, m, g, length):\n",
    "    theta, omega = y\n",
    "    dydt = [omega, -(b/m)*omega - (g/length)*(theta)]\n",
    "    return dydt"
   ]
  },
  {
   "cell_type": "code",
   "execution_count": 6,
   "metadata": {
    "scrolled": true,
    "slideshow": {
     "slide_type": "-"
    }
   },
   "outputs": [],
   "source": [
    "# Parameters and initial values\n",
    "m = 1.0                # mass of bob\n",
    "length = 1.0           # length of pendulum\n",
    "b = 0.25               # friction constant\n",
    "g = 9.81               # gravitational constant\n",
    "theta0 = np.pi-0.01    # initial angle\n",
    "w0 = 0.0               # initial omega\n",
    "\n",
    "# create a vector with the initial angle and initial omega\n",
    "y0 = [theta0, w0]"
   ]
  },
  {
   "cell_type": "code",
   "execution_count": 28,
   "metadata": {},
   "outputs": [],
   "source": [
    "# time interval (use more points for exact solution \"tex\")\n",
    "stoptime = 10         # total number of seconds\n",
    "numpoints = 51       # number of points interval\n",
    "\n",
    "t = np.linspace(0, stoptime, numpoints)\n",
    "tex = np.linspace(0, stoptime, 10*numpoints)"
   ]
  },
  {
   "cell_type": "code",
   "execution_count": 8,
   "metadata": {},
   "outputs": [],
   "source": [
    "# ODE solver parameters\n",
    "abserr = 1.0e-3      # absolute error tolerance\n",
    "relerr = 1.0e-1      # relative error tolerance"
   ]
  },
  {
   "cell_type": "markdown",
   "metadata": {},
   "source": [
    "<br>\n",
    "<hr class=\"top\">\n",
    "## Pendulum (cont.)\n",
    "<hr class=\"bot\">\n",
    "<br>\n",
    "\n",
    "Use <i>odeint</i> to numerically solve the ODE with initial conditions."
   ]
  },
  {
   "cell_type": "code",
   "execution_count": 9,
   "metadata": {
    "scrolled": true,
    "slideshow": {
     "slide_type": "-"
    }
   },
   "outputs": [],
   "source": [
    "# import odeint solver\n",
    "from scipy.integrate import odeint"
   ]
  },
  {
   "cell_type": "code",
   "execution_count": 20,
   "metadata": {
    "scrolled": true,
    "slideshow": {
     "slide_type": "-"
    }
   },
   "outputs": [
    {
     "name": "stdout",
     "output_type": "stream",
     "text": [
      "[[ 3.13159265  0.        ]\n",
      " [ 2.55039308 -5.62027055]\n",
      " [ 1.05383549 -8.91287394]\n",
      " [-0.76905828 -8.77334903]\n",
      " [-2.22698123 -5.37362228]\n",
      " [-2.79216349 -0.23356682]\n",
      " [-2.32608746  4.75767825]\n",
      " [-1.03710686  7.88753975]\n",
      " [ 0.58401381  8.02855417]\n",
      " [ 1.9018184   5.42043403]\n",
      " [ 2.56948923  0.61572879]\n",
      " [ 2.20345903 -4.12391592]\n",
      " [ 1.05418395 -7.21587317]\n",
      " [-0.45167696 -7.54823618]\n",
      " [-1.77962427 -5.09486832]\n",
      " [-2.4143466  -1.31383825]\n",
      " [-2.18333972  3.52372685]\n",
      " [-1.14713335  6.64068421]\n",
      " [ 0.26753955  7.16566441]\n",
      " [ 1.53916098  5.08766973]\n",
      " [ 2.2072844   1.23091572]\n",
      " [ 2.10442397 -2.7078489 ]\n",
      " [ 1.17129415 -6.02172735]\n",
      " [-0.13415013 -6.73052574]\n",
      " [-1.34100626 -4.93562706]\n",
      " [-1.99861809 -1.39524899]\n",
      " [-1.88593267  2.50869912]\n",
      " [-1.08140035  5.29591734]\n",
      " [ 0.04471176  6.01102978]\n",
      " [ 1.11075803  4.57956924]\n",
      " [ 1.73210723  1.59444498]\n",
      " [ 1.7100198  -1.66905611]\n",
      " [ 1.12944542 -4.15437221]\n",
      " [ 0.22835939 -5.12986707]\n",
      " [-0.70883278 -4.36542037]\n",
      " [-1.35161404 -2.17007587]\n",
      " [-1.49349888  0.64823875]\n",
      " [-1.11134704  3.10053451]\n",
      " [-0.3603743   4.34408512]\n",
      " [ 0.46384308  4.01005259]\n",
      " [ 1.08125723  2.33499199]\n",
      " [ 1.29741957 -0.02597224]\n",
      " [ 1.06439676 -2.22774895]\n",
      " [ 0.49065039 -3.54829721]\n",
      " [-0.21599654 -3.5973056 ]\n",
      " [-0.81902084 -2.40743169]\n",
      " [-1.10207501 -0.44127344]\n",
      " [-0.9865507   1.53350704]\n",
      " [-0.54822668  2.87145578]\n",
      " [ 0.04624879  3.16977751]\n",
      " [ 0.59275117  2.38901529]]\n"
     ]
    }
   ],
   "source": [
    "# get solution. Note args are given as a tuple\n",
    "solution = odeint(pendulumNumerical, y0, t, args=(b,m,g,length),\\\n",
    "                  atol=abserr, rtol=relerr)\n",
    "print(solution)"
   ]
  },
  {
   "cell_type": "markdown",
   "metadata": {},
   "source": [
    "The ODE can be solved analytically. The exact solutions for $\\theta$ and $\\omega$ are:"
   ]
  },
  {
   "cell_type": "code",
   "execution_count": 14,
   "metadata": {},
   "outputs": [],
   "source": [
    "# Exact solution for theta\n",
    "def pendulumTheta(t, theta0, b, m, g, length):\n",
    "    root = np.sqrt( np.abs( b*b - 4.0*g*m*m/length ) )\n",
    "    sol = theta0*np.exp(-b*t/2)*( np.cos( root*t/2 ) \\\n",
    "                                 + (b/root)*np.sin( root*t/2) )\n",
    "    return sol"
   ]
  },
  {
   "cell_type": "code",
   "execution_count": 16,
   "metadata": {},
   "outputs": [
    {
     "name": "stdout",
     "output_type": "stream",
     "text": [
      "[[ 3.13159265  0.        ]\n",
      " [ 2.98049929 -2.98464646]\n",
      " [ 2.54672691 -5.60879362]\n",
      " [ 1.87893809 -7.6291764 ]\n",
      " [ 1.04708145 -8.86655405]\n",
      " [ 0.13514467 -9.22135394]\n",
      " [-0.76726297 -8.68127263]\n",
      " [-1.57366036 -7.32030366]\n",
      " [-2.20892766 -5.2894964 ]\n",
      " [-2.61624444 -2.8005386 ]\n",
      " [-2.76209791 -0.10391707]\n",
      " [-2.6389279   2.53611055]\n",
      " [-2.26521258  4.86724949]\n",
      " [-1.6830499   6.67311661]\n",
      " [-0.95352908  7.79314709]\n",
      " [-0.15039132  8.13664557]\n",
      " [ 0.64736869  7.68977642]\n",
      " [ 1.36322339  6.51499548]\n",
      " [ 1.93040534  4.74316492]\n",
      " [ 2.29808225  2.55928908]\n",
      " [ 2.43584819  0.18339976]\n",
      " [ 2.33614113 -2.1514524 ]\n",
      " [ 2.0144056  -4.22191421]\n",
      " [ 1.50704048 -5.83555353]\n",
      " [ 0.86738399 -6.84858748]\n",
      " [ 0.16016988 -7.17849815]\n",
      " [-0.54497449 -6.81044935]\n",
      " [-1.18033979 -5.79704115]\n",
      " [-1.68659372 -4.25159047]\n",
      " [-2.01827586 -2.33574274]\n",
      " [-2.14782359 -0.24274549]\n",
      " [-2.0677788   1.821902  ]\n",
      " [-1.79100821  3.66049847]\n",
      " [-1.34896511  5.10194615]\n",
      " [-0.78820801  6.01753553]\n",
      " [-0.16555363  6.33226704]\n",
      " [ 0.45763615  6.03073197]\n",
      " [ 1.02146305  5.15712183]\n",
      " [ 1.47321205  3.80951027]\n",
      " [ 1.7722398   2.12909848]\n",
      " [ 1.89358207  0.28558159]\n",
      " [ 1.82996563 -1.53986153]\n",
      " [ 1.59207029 -3.17226213]\n",
      " [ 1.20705946 -4.45952176]\n",
      " [ 0.71556284 -5.28646342]\n",
      " [ 0.16743969 -5.58498793]\n",
      " [-0.38324028 -5.33945541]\n",
      " [-0.88349667 -4.58689296]\n",
      " [-1.28650254 -3.41213627]\n",
      " [-1.55593237 -1.93849698]\n",
      " [-1.66919345 -0.31496312]\n",
      " [-1.61925785  1.29875178]\n",
      " [-1.41495342  2.74782105]\n",
      " [-1.07972409  3.89706226]\n",
      " [-0.64901609  4.64344244]\n",
      " [-0.16657546  4.9251853 ]\n",
      " [ 0.31996065  4.72668886]\n",
      " [ 0.76373773  4.07888464]\n",
      " [ 1.12316692  3.05511648]\n",
      " [ 1.36579165  1.76304544]\n",
      " [ 1.47118092  0.33345681]\n",
      " [ 1.43259576 -1.09287852]\n",
      " [ 1.25729874 -2.37897792]\n",
      " [ 0.96551036 -3.40471678]\n",
      " [ 0.58814606 -4.07795558]\n",
      " [ 0.16358134 -4.34270309]\n",
      " [-0.2662201  -4.18360423]\n",
      " [-0.65982745 -3.6264123 ]\n",
      " [-0.98031083 -2.7344993 ]\n",
      " [-1.198679   -1.60183743]\n",
      " [-1.29646921 -0.34321335]\n",
      " [-1.26726144  0.9173161 ]\n",
      " [-1.11699799  2.05857396]\n",
      " [-0.86310723  2.97383649]\n",
      " [-0.53254523  3.58073184]\n",
      " [-0.15897019  3.82855437]\n",
      " [ 0.2206574   3.70235527]\n",
      " [ 0.569708    3.2234962 ]\n",
      " [ 0.85539474  2.44670002]\n",
      " [ 1.05182916  1.45396864]\n",
      " [ 1.14233861  0.34602953]\n",
      " [ 1.12084095 -0.76780599]\n",
      " [ 0.99216745 -1.7803589 ]\n",
      " [ 0.77132909 -2.5968291 ]\n",
      " [ 0.48182282 -3.14359972]\n",
      " [ 0.15316396 -3.37478795]\n",
      " [-0.1820985  -3.27596967]\n",
      " [-0.49158465 -2.86478864]\n",
      " [-0.74619098 -2.18846934]\n",
      " [-0.92280624 -1.31854863]\n",
      " [-1.00638429 -0.34340109]\n",
      " [-0.99119081  0.64066894]\n",
      " [-0.88112451  1.53887748]\n",
      " [-0.68910454  2.26703155]\n",
      " [-0.43560643  2.75935822]\n",
      " [-0.14650785  2.97437024]\n",
      " [ 0.14953145  2.89825308]\n",
      " [ 0.42389237  2.54550918]\n",
      " [ 0.6507456   1.9568652 ]\n",
      " [ 0.80946476  1.19471094]\n",
      " [ 0.88648003  0.33656922]]\n"
     ]
    }
   ],
   "source": [
    "# Exact solution for omega\n",
    "def pendulumOmega(t, theta0, b, m, g, length):\n",
    "    root = np.sqrt( np.abs( b*b - 4.0*g*m*m/length ) )\n",
    "    sn = np.sin(root*t/2.0)\n",
    "    cs = np.cos(root*t/2.0)\n",
    "    sol = -(b/2)*theta0*np.exp(-b*t/2)*( cs + (b/root)*sn ) \\\n",
    "        + (theta0/2)*np.exp(-b*t/2)*( b*cs - root*sn )\n",
    "    return sol\n",
    "\n",
    "print(sol)"
   ]
  },
  {
   "cell_type": "markdown",
   "metadata": {
    "slideshow": {
     "slide_type": "subslide"
    }
   },
   "source": [
    "<br>\n",
    "<hr class=\"top\">\n",
    "## Exercise : Pendulum\n",
    "<hr class=\"bot\">\n",
    "<br>\n",
    "\n",
    "To see how good the numerical solutions for $\\theta$ and $\\omega$ are, plot the exact solutions against the\n",
    "numerical solutions for the appropriate range of $t$.\n",
    "\n",
    "You should include a legend to label the different lines/points.\n",
    "\n",
    "You should find that the numerical solution looks quite good. Can you adjust the parameters above\n",
    "(re-execute all the relevant cells) to make it better?"
   ]
  },
  {
   "cell_type": "code",
   "execution_count": 40,
   "metadata": {},
   "outputs": [
    {
     "data": {
      "text/plain": [
       "(51,)"
      ]
     },
     "execution_count": 40,
     "metadata": {},
     "output_type": "execute_result"
    },
    {
     "data": {
      "image/png": "[encoded data removed]",
      "text/plain": [
       "<Figure size 432x288 with 1 Axes>"
      ]
     },
     "metadata": {
      "needs_background": "light"
     },
     "output_type": "display_data"
    }
   ],
   "source": [
    "%matplotlib inline\n",
    "\n",
    "import matplotlib.pyplot as plt\n",
    "plt.plot(tex,pendulumTheta(tex[0:],theta0,b,m,g,length))\n",
    "\n",
    "plt.plot(t,solution[:,0])\n",
    "\n",
    "np.shape(sol)\n",
    "np.shape(t)"
   ]
  },
  {
   "cell_type": "markdown",
   "metadata": {
    "slideshow": {
     "slide_type": "subslide"
    }
   },
   "source": [
    "<br>\n",
    "<hr class=\"top\">\n",
    "## Solution : Pendulum\n",
    "<hr class=\"bot\">\n",
    "<br>"
   ]
  },
  {
   "cell_type": "code",
   "execution_count": 26,
   "metadata": {
    "scrolled": true,
    "slideshow": {
     "slide_type": "-"
    }
   },
   "outputs": [
    {
     "data": {
      "image/png": "[encoded data removed]",
      "text/plain": [
       "<Figure size 432x288 with 1 Axes>"
      ]
     },
     "metadata": {
      "needs_background": "light"
     },
     "output_type": "display_data"
    }
   ],
   "source": [
    "# %load pendulum.py\n",
    "# Plot the numerical and exact solutions for a simple pendulum\n",
    "\n",
    "# to inline plots in a notebook, uncomment line below\n",
    "# %matplotlib inline\n",
    "\n",
    "import numpy as np\n",
    "\n",
    "import matplotlib.pyplot as plt\n",
    "plt.plot(t, solution[:, 0], 'ro', label='theta(t)')\n",
    "plt.plot(tex[0:], pendulumTheta(tex[0:],theta0,b,m,g,length), 'r-', label='exact theta(t)')\n",
    "plt.plot(t, solution[:, 1], 'bv', label='omega(t)')\n",
    "plt.plot(tex[0:], pendulumOmega(tex[0:],theta0,b,m,g,length), 'b-', label='exact omega(t)')\n",
    "plt.legend(loc='best')\n",
    "plt.xlabel('t')\n",
    "plt.grid()\n"
   ]
  },
  {
   "cell_type": "markdown",
   "metadata": {},
   "source": [
    " "
   ]
  },
  {
   "cell_type": "markdown",
   "metadata": {
    "slideshow": {
     "slide_type": "slide"
    }
   },
   "source": [
    "\n",
    "<br>\n",
    "<hr class=\"top\">\n",
    "## Optimisation\n",
    "<hr class=\"bot\">\n",
    "<br>\n",
    "\n",
    "* Several classical optimisation algorithms\n",
    "  * Least squares fitting\n",
    "  * Quasi-Newton type optimisations\n",
    "  * Simulated annealing\n",
    "  * General purpose root finding\n"
   ]
  },
  {
   "cell_type": "markdown",
   "metadata": {
    "slideshow": {
     "slide_type": "subslide"
    }
   },
   "source": [
    "<br>\n",
    "<hr class=\"top\">\n",
    "## Least-squares fit\n",
    "<hr class=\"bot\">\n",
    "<br>\n",
    "\n",
    "Use `scipy.optimize.leastsq` to fit some measured data, $\\{x_i,\\,y_i\\}$, to a function:\n",
    "\n",
    "$$\n",
    "y\\,=\\,A\\,\\sin(2\\pi k x \\,+\\, \\theta)\n",
    "$$\n",
    "\n",
    "where the parameters $A$, $k$, and $\\theta$ are unknown. The residual vector, that will be squared and summed by `leastsq` to fit the data, is:\n",
    "\n",
    "$$\n",
    "e_i\\,=\\, ∣∣ \\, y_i \\,− \\,A\\sin(2\\pi k x_i + \\theta)∣∣\n",
    "$$\n",
    "\n",
    "By defining a function to compute the residuals, $e_i$, and, selecting appropriate starting values, `leastsq` can be used to find the best-fit parameters $\\hat{A}$, $\\hat{k}$, $\\hat{\\theta}$."
   ]
  },
  {
   "cell_type": "markdown",
   "metadata": {
    "slideshow": {
     "slide_type": "subslide"
    }
   },
   "source": [
    "<br>\n",
    "<hr class=\"top\">\n",
    "## Least-squares fit\n",
    "<hr class=\"bot\">\n",
    "<br>\n",
    "\n",
    "Create a sample of true values, and the \"measured\" (noisy) data. Define the residual function and initial values.\n",
    "<br>"
   ]
  },
  {
   "cell_type": "code",
   "execution_count": null,
   "metadata": {
    "scrolled": true,
    "slideshow": {
     "slide_type": "-"
    }
   },
   "outputs": [],
   "source": [
    "# set up true function and \"measured\" data\n",
    "x = np.arange(0, 6e-2, 6e-2 / 30)\n",
    "A, k, theta = 10, 1.0 / 3e-2, np.pi / 6\n",
    "\n",
    "y_true = A * np.sin(2.0*np.pi*k*x + theta)\n",
    "y_meas = y_true + 2.0*np.random.randn(len(x))"
   ]
  },
  {
   "cell_type": "code",
   "execution_count": null,
   "metadata": {
    "scrolled": true,
    "slideshow": {
     "slide_type": "-"
    }
   },
   "outputs": [],
   "source": [
    "# Function to compute the residual\n",
    "def residuals(p, y, x):\n",
    "    A, k, theta = p\n",
    "    err = y - A * np.sin(2 * np.pi * k * x + theta)\n",
    "    return err"
   ]
  },
  {
   "cell_type": "markdown",
   "metadata": {
    "slideshow": {
     "slide_type": "subslide"
    }
   },
   "source": [
    "<br>\n",
    "<hr class=\"top\">\n",
    "## Least-squares fit\n",
    "<hr class=\"bot\">\n",
    "<br>\n",
    "\n",
    "For easy evaluation of the model function parameters [A, K, theta], we define a function."
   ]
  },
  {
   "cell_type": "code",
   "execution_count": null,
   "metadata": {
    "scrolled": true,
    "slideshow": {
     "slide_type": "-"
    }
   },
   "outputs": [],
   "source": [
    "def peval(x, p):\n",
    "    return p[0]*np.sin(2.0*np.pi*p[1]*x + p[2])\n",
    "\n",
    "# starting values of A, k and theta\n",
    "p0 = [8, 1 / 2.3e-2, np.pi / 3]\n",
    "print(np.array(p0))"
   ]
  },
  {
   "cell_type": "markdown",
   "metadata": {
    "slideshow": {
     "slide_type": "subslide"
    }
   },
   "source": [
    "<br>\n",
    "<hr class=\"top\">\n",
    "## Least-squares fit\n",
    "<hr class=\"bot\">\n",
    "<br>\n",
    "\n",
    "<p style=\"font-size: 100%\">Do least squares fitting and plot results</p>"
   ]
  },
  {
   "cell_type": "code",
   "execution_count": null,
   "metadata": {
    "scrolled": true,
    "slideshow": {
     "slide_type": "-"
    }
   },
   "outputs": [],
   "source": [
    "# do least squares fitting\n",
    "from scipy.optimize import leastsq\n",
    "\n",
    "plsq = leastsq(residuals, p0, args=(y_meas, x))\n",
    "print(plsq[0])\n",
    "print(np.array([A, k, theta]))"
   ]
  },
  {
   "cell_type": "code",
   "execution_count": null,
   "metadata": {
    "scrolled": true,
    "slideshow": {
     "slide_type": "-"
    }
   },
   "outputs": [],
   "source": [
    "# and plot the true function, measured (noisy) data \n",
    "# and the model function with fitted parameters \n",
    "plt.plot(x, peval(x, plsq[0]), x, y_meas, 'o', x, y_true)\n",
    "\n",
    "plt.title('Least-squares fit to noisy data')\n",
    "plt.legend(['Fit', 'Noisy', 'True'])\n",
    "plt.show()"
   ]
  },
  {
   "cell_type": "markdown",
   "metadata": {},
   "source": [
    " "
   ]
  },
  {
   "cell_type": "markdown",
   "metadata": {
    "slideshow": {
     "slide_type": "slide"
    }
   },
   "source": [
    "<br>\n",
    "<hr class=\"top\">\n",
    "## Special functions\n",
    "<hr class=\"bot\">\n",
    "<br>\n",
    "\n",
    "* SciPy contains huge set of special functions \n",
    "  * Bessel functions\n",
    "  * Legendre functions\n",
    "  * Gamma functions \n",
    "  * Airy functions \n",
    " \n",
    "We will see special functions used in the following sections.\n",
    "<br>\n"
   ]
  },
  {
   "cell_type": "markdown",
   "metadata": {
    "collapsed": true
   },
   "source": [
    " "
   ]
  },
  {
   "cell_type": "markdown",
   "metadata": {
    "slideshow": {
     "slide_type": "skip"
    }
   },
   "source": [
    "<br>\n",
    "<hr class=\"top\">\n",
    "## Example: `scipy.special`\n",
    "<hr class=\"bot\">\n",
    "<br>\n",
    "\n",
    "* Many problems with circular or cylindrical symmetry have solutions involving Bessel functions\n",
    "* E.g., height of a oscillating drumhead related to $J_n(x)$\n",
    "\n",
    "We will use\n",
    "\n",
    "http://docs.scipy.org/doc/scipy-0.14.0/reference/special.html\n",
    "<br>\n",
    "<br>"
   ]
  },
  {
   "cell_type": "code",
   "execution_count": null,
   "metadata": {
    "scrolled": true,
    "slideshow": {
     "slide_type": "skip"
    }
   },
   "outputs": [],
   "source": [
    "# drumhead example\n",
    "from scipy import special\n",
    "\n",
    "def drumhead_height(n, k, distance, angle, t):\n",
    "    # kth zero is last element of returned array\n",
    "    kth_zero = special.jn_zeros(n, k)[-1]\n",
    "    return (np.cos(t) * np.cos(n*angle) * special.jn(n, distance*kth_zero))"
   ]
  },
  {
   "cell_type": "code",
   "execution_count": null,
   "metadata": {
    "scrolled": true,
    "slideshow": {
     "slide_type": "skip"
    }
   },
   "outputs": [],
   "source": [
    "theta = np.r_[0:2*np.pi:50j]\n",
    "radius = np.r_[0:1:50j]\n",
    "print(theta)\n",
    "\n",
    "x = np.array([r * np.cos(theta) for r in radius])\n",
    "y = np.array([r * np.sin(theta) for r in radius])\n",
    "z = np.array([drumhead_height(1, 1, r, theta, 0.5)\n",
    "              for r in radius])\n",
    "# contd..."
   ]
  },
  {
   "cell_type": "markdown",
   "metadata": {
    "slideshow": {
     "slide_type": "skip"
    }
   },
   "source": [
    "<br>\n",
    "<hr class=\"top\">\n",
    "## Drumhead (cont.)\n",
    "<hr class=\"bot\">\n",
    "<br>\n",
    "\n",
    "Plot the height of a drumhead using a 3-d axis set\n",
    " "
   ]
  },
  {
   "cell_type": "code",
   "execution_count": null,
   "metadata": {
    "scrolled": true,
    "slideshow": {
     "slide_type": "skip"
    }
   },
   "outputs": [],
   "source": [
    "# ...contd\n",
    "%matplotlib inline\n",
    "import matplotlib.pyplot as plt\n",
    "from mpl_toolkits.mplot3d import Axes3D\n",
    "from matplotlib import cm\n",
    "\n",
    "fig = plt.figure(figsize=(8, 4))\n",
    "ax = Axes3D(fig)\n",
    "ax.plot_surface(x, y, z, rstride=1, cstride=1, cmap=cm.jet)\n",
    "ax.set_xlabel('X')\n",
    "ax.set_ylabel('Y')\n",
    "ax.set_zlabel('Z')\n",
    "plt.show()"
   ]
  },
  {
   "cell_type": "markdown",
   "metadata": {
    "slideshow": {
     "slide_type": "slide"
    }
   },
   "source": [
    "<br>\n",
    "<hr class=\"top\">\n",
    "## Summary\n",
    "<hr class=\"bot\">\n",
    "<br>\n",
    "\n",
    "* <p style=\"font-size: 100%\">As we have seen, SciPy has a wide range of useful functionality for scientific computing. </p>\n",
    "\n",
    "\n",
    "* <p style=\"font-size: 100%\">In case it does not have what you need, there are other packages with specialised functionality. </p>\n",
    "\n",
    "#### Other packages\n",
    "\n",
    "* <p style=\"font-size: 100%\">Pandas</p>\n",
    "\n",
    "  * <p style=\"font-size: 100%\">Offers R-like statistical analysis of numerical tables and time series</p>\n",
    "\n",
    "\n",
    "* <p style=\"font-size: 100%\">SymPy</p>\n",
    "\n",
    "  * <p style=\"font-size: 100%\">Python library for symbolic computing</p>\n",
    "\n",
    "\n",
    "* <p style=\"font-size: 100%\">scikit-image</p>\n",
    "\n",
    "  * <p style=\"font-size: 100%\">Advanced image processing</p>\n",
    "  \n",
    "  \n",
    "* <p style=\"font-size: 100%\">scikit-learn</p>\n",
    "\n",
    "  * <p style=\"font-size: 100%\">Package for machine learning</p>\n",
    "  \n",
    "  \n",
    "* <p style=\"font-size: 100%\">Sage</p>\n",
    "\n",
    "  * <p style=\"font-size: 100%\">Open source replacement for Mathematica / Maple / Matlab (built using Python)</p>\n",
    "\n",
    "<br>\n",
    "\n",
    "* Next: MPI4PY"
   ]
  },
  {
   "cell_type": "markdown",
   "metadata": {
    "slideshow": {
     "slide_type": "slide"
    }
   },
   "source": [
    "<br>\n",
    "<hr class=\"top\">\n",
    "## Exercise : CFD (optional)\n",
    "<hr class=\"bot\">\n",
    "<br>\n",
    "\n",
    "#### No computational fluid dynamics experience required...\n",
    "\n",
    "Look for the CFD exercise directory in the course material. The instructions are\n",
    "given in a pdf file in the `doc` directory.\n",
    "\n",
    "#### Aim\n",
    "\n",
    "To investigate the efficiency of various methods of updating `numpy` arrays.\n",
    "\n",
    "#### Note\n",
    "\n",
    "We will discuss the the compilation of C/Fortran versions in the coupling lecture.\n",
    "\n",
    "#### Extra\n",
    "\n",
    "Below is some material that is relevant to the CFD exercise."
   ]
  },
  {
   "cell_type": "markdown",
   "metadata": {
    "slideshow": {
     "slide_type": "subslide"
    }
   },
   "source": [
    "<br>\n",
    "<hr class=\"top\">\n",
    "## Extra : Convolutions with `scipy.signal`\n",
    "<hr class=\"bot\">\n",
    "<br>\n",
    "\n",
    "<p style=\"font-size: 100%\">In image and signal processing, the result of applying a filter (or mask) to an image (or signal) can be determined by a convolution between the two. </p>"
   ]
  },
  {
   "cell_type": "code",
   "execution_count": null,
   "metadata": {
    "scrolled": true,
    "slideshow": {
     "slide_type": "-"
    }
   },
   "outputs": [],
   "source": [
    "# Example\n",
    "import numpy as np\n",
    "from scipy import signal\n",
    "\n",
    "a = np.array([[1, 2, 3, 4], [5, 6, 7, 8],[9, 10, 11, 12]])\n",
    "mask = np.array([[1,1,1],[1,0,1],[1,1,1]])\n",
    "result = signal.convolve(a, mask)\n",
    "print(\"a:\\n\", a)\n",
    "print(\"mask:\\n\", mask)\n",
    "print(\"result:\\n\", result)"
   ]
  },
  {
   "cell_type": "markdown",
   "metadata": {
    "slideshow": {
     "slide_type": "subslide"
    }
   },
   "source": [
    "<br>\n",
    "<hr class=\"top\">\n",
    "## Extra : Convolution process\n",
    "<hr class=\"bot\">\n",
    "<br>\n",
    "\n",
    "What `signal.convolve` does, schematically:\n",
    "\n",
    "<img src=\"convolve.jpg\" style=\"width: 85%\">"
   ]
  },
  {
   "cell_type": "markdown",
   "metadata": {
    "slideshow": {
     "slide_type": "subslide"
    }
   },
   "source": [
    "<br>\n",
    "<hr class=\"top\">\n",
    "## Extra : Convolutions with `scipy.ndimage`\n",
    "<hr class=\"bot\">\n",
    "<br>\n",
    "\n",
    "SciPy has another <i>convolve</i> function"
   ]
  },
  {
   "cell_type": "code",
   "execution_count": null,
   "metadata": {
    "scrolled": true,
    "slideshow": {
     "slide_type": "-"
    }
   },
   "outputs": [],
   "source": [
    "# Exercise: Scipy has another convolve function, ndimage.convolve  \n",
    "# What does this produce, when used in 'constant' mode (below)?\n",
    "\n",
    "from scipy import ndimage\n",
    "result2 = ndimage.convolve(a, mask, mode='constant')\n",
    "\n",
    "# The default mode for ndimage.convolve is 'reflect'. Investigate. \n"
   ]
  },
  {
   "cell_type": "code",
   "execution_count": null,
   "metadata": {
    "scrolled": true,
    "slideshow": {
     "slide_type": "fragment"
    }
   },
   "outputs": [],
   "source": [
    "result3 = ndimage.convolve(a, mask, mode='reflect')\n",
    "print(result3)"
   ]
  },
  {
   "cell_type": "markdown",
   "metadata": {},
   "source": [
    "<br>\n",
    "<hr class=\"top\">\n",
    "<hr class=\"bot\">\n",
    "<br>"
   ]
  },
  {
   "cell_type": "code",
   "execution_count": null,
   "metadata": {},
   "outputs": [],
   "source": [
    "# This cell is for the presenter\n",
    "from IPython.core.display import display, HTML\n",
    "\n",
    "styles = open(\"../style.css\", \"r\").read()\n",
    "display(HTML(styles))"
   ]
  }
 ],
 "metadata": {
  "anaconda-cloud": {},
  "celltoolbar": "Raw Cell Format",
  "kernelspec": {
   "display_name": "Python 3",
   "language": "python",
   "name": "python3"
  },
  "language_info": {
   "codemirror_mode": {
    "name": "ipython",
    "version": 3
   },
   "file_extension": ".py",
   "mimetype": "text/x-python",
   "name": "python",
   "nbconvert_exporter": "python",
   "pygments_lexer": "ipython3",
   "version": "3.7.0"
  }
 },
 "nbformat": 4,
 "nbformat_minor": 1
}
